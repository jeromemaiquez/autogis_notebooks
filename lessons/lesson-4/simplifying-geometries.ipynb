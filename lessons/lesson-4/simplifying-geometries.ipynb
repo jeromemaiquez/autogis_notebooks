{
 "cells": [
  {
   "cell_type": "markdown",
   "id": "4b06f1ac",
   "metadata": {},
   "source": [
    "# Simplifying geometries\n",
    "\n",
    "\n",
    "Sometimes it might be useful to be able to simplify geometries. This could be\n",
    "something to consider for example when you have very detailed spatial features\n",
    "that cover the whole world. If you make a map that covers the whole world, it\n",
    "is unnecessary to have really detailed geometries because it is simply\n",
    "impossible to see those small details from your map. Furthermore, it takes a\n",
    "long time to actually render a large quantity of features into a map. Here, we\n",
    "will see how it is possible to simplify geometric features in Python.\n",
    "\n",
    "As an example we will use data representing the Amazon river in South America,\n",
    "and simplify it's geometries.\n",
    "\n",
    "Let's first read the data and see how the river looks like:"
   ]
  },
  {
   "cell_type": "code",
   "execution_count": 1,
   "id": "b3252766",
   "metadata": {},
   "outputs": [],
   "source": [
    "import pathlib \n",
    "NOTEBOOK_PATH = pathlib.Path().resolve()\n",
    "DATA_DIRECTORY = NOTEBOOK_PATH / \"data\""
   ]
  },
  {
   "cell_type": "code",
   "execution_count": 2,
   "id": "459c69e8",
   "metadata": {},
   "outputs": [
    {
     "data": {
      "text/html": [
       "<div>\n",
       "<style scoped>\n",
       "    .dataframe tbody tr th:only-of-type {\n",
       "        vertical-align: middle;\n",
       "    }\n",
       "\n",
       "    .dataframe tbody tr th {\n",
       "        vertical-align: top;\n",
       "    }\n",
       "\n",
       "    .dataframe thead th {\n",
       "        text-align: right;\n",
       "    }\n",
       "</style>\n",
       "<table border=\"1\" class=\"dataframe\">\n",
       "  <thead>\n",
       "    <tr style=\"text-align: right;\">\n",
       "      <th></th>\n",
       "      <th>bbox_east</th>\n",
       "      <th>bbox_north</th>\n",
       "      <th>bbox_south</th>\n",
       "      <th>bbox_west</th>\n",
       "      <th>place_name</th>\n",
       "      <th>geometry</th>\n",
       "    </tr>\n",
       "  </thead>\n",
       "  <tbody>\n",
       "    <tr>\n",
       "      <th>0</th>\n",
       "      <td>-49.10927</td>\n",
       "      <td>0.70653</td>\n",
       "      <td>-4.44219</td>\n",
       "      <td>-73.450126</td>\n",
       "      <td>Rio Amazonas, Microrregião de Manaus, Mesorreg...</td>\n",
       "      <td>MULTILINESTRING ((1612358.589 9508606.173, 161...</td>\n",
       "    </tr>\n",
       "  </tbody>\n",
       "</table>\n",
       "</div>"
      ],
      "text/plain": [
       "   bbox_east  bbox_north  bbox_south  bbox_west  \\\n",
       "0  -49.10927     0.70653    -4.44219 -73.450126   \n",
       "\n",
       "                                          place_name  \\\n",
       "0  Rio Amazonas, Microrregião de Manaus, Mesorreg...   \n",
       "\n",
       "                                            geometry  \n",
       "0  MULTILINESTRING ((1612358.589 9508606.173, 161...  "
      ]
     },
     "execution_count": 2,
     "metadata": {},
     "output_type": "execute_result"
    }
   ],
   "source": [
    "import geopandas as gpd\n",
    "\n",
    "amazon = gpd.read_file(DATA_DIRECTORY / \"amazon_river\" / \"amazon_river.gpkg\")\n",
    "\n",
    "amazon.head()"
   ]
  },
  {
   "cell_type": "code",
   "execution_count": 3,
   "id": "85221a2d",
   "metadata": {},
   "outputs": [
    {
     "data": {
      "text/plain": [
       "<Projected CRS: PROJCS[\"Mercator_2SP\",GEOGCS[\"GCS_GRS 1980(IUGG, 1 ...>\n",
       "Name: Mercator_2SP\n",
       "Axis Info [cartesian]:\n",
       "- [east]: Easting (metre)\n",
       "- [north]: Northing (metre)\n",
       "Area of Use:\n",
       "- undefined\n",
       "Coordinate Operation:\n",
       "- name: unnamed\n",
       "- method: Mercator (variant B)\n",
       "Datum: D_unknown\n",
       "- Ellipsoid: GRS80\n",
       "- Prime Meridian: Unknown"
      ]
     },
     "execution_count": 3,
     "metadata": {},
     "output_type": "execute_result"
    }
   ],
   "source": [
    "amazon.crs"
   ]
  },
  {
   "cell_type": "code",
   "execution_count": 4,
   "id": "99227c3b",
   "metadata": {},
   "outputs": [
    {
     "data": {
      "text/plain": [
       "<Axes: >"
      ]
     },
     "execution_count": 4,
     "metadata": {},
     "output_type": "execute_result"
    },
    {
     "data": {
      "image/png": "[encoded data removed]",
      "text/plain": [
       "<Figure size 640x480 with 1 Axes>"
      ]
     },
     "metadata": {},
     "output_type": "display_data"
    }
   ],
   "source": [
    "amazon.plot()"
   ]
  },
  {
   "cell_type": "markdown",
   "id": "66ab6b50",
   "metadata": {},
   "source": [
    "The LineString that is presented here is quite detailed, so let's see how we\n",
    "can generalize them a bit. As we can see from the coordinate reference system,\n",
    "the data is projected in a system using [Mercator projection based on\n",
    "SIRGAS datum](http://spatialreference.org/ref/sr-org/7868/), and metres as a unit. \n",
    "\n",
    "Generalization can be done easily by using a Shapely function called\n",
    "`.simplify()`. The `tolerance` parameter can be used to adjusts how much\n",
    "geometries should be generalized. **The tolerance value is tied to the\n",
    "coordinate system of the geometries**. Hence, the value we pass here is 20 000\n",
    "**meters** (20 kilometers)."
   ]
  },
  {
   "cell_type": "code",
   "execution_count": 5,
   "id": "5e94fc62",
   "metadata": {},
   "outputs": [
    {
     "data": {
      "text/plain": [
       "<Axes: >"
      ]
     },
     "execution_count": 5,
     "metadata": {},
     "output_type": "execute_result"
    },
    {
     "data": {
      "image/png": "[encoded data removed]",
      "text/plain": [
       "<Figure size 640x480 with 1 Axes>"
      ]
     },
     "metadata": {},
     "output_type": "display_data"
    }
   ],
   "source": [
    "# Generalize geometry\n",
    "amazon[\"simplegeom\"] = amazon.simplify(tolerance=20_000)\n",
    "\n",
    "# Set geometry to be our new simlified geometry\n",
    "amazon = amazon.set_geometry(\"simplegeom\")\n",
    "\n",
    "# Plot \n",
    "amazon.plot()"
   ]
  },
  {
   "cell_type": "markdown",
   "id": "a630364b",
   "metadata": {},
   "source": [
    "Nice! As a result, now we have simplified our LineString quite significantly as we can see from the map."
   ]
  }
 ],
 "metadata": {
  "kernelspec": {
   "display_name": "Python 3 (ipykernel)",
   "language": "python",
   "name": "python3"
  },
  "language_info": {
   "codemirror_mode": {
    "name": "ipython",
    "version": 3
   },
   "file_extension": ".py",
   "mimetype": "text/x-python",
   "name": "python",
   "nbconvert_exporter": "python",
   "pygments_lexer": "ipython3",
   "version": "3.12.0"
  }
 },
 "nbformat": 4,
 "nbformat_minor": 5
}
